{
 "cells": [
  {
   "cell_type": "markdown",
   "metadata": {},
   "source": [
    "## Load Libraries"
   ]
  },
  {
   "cell_type": "code",
   "execution_count": 1,
   "metadata": {
    "execution": {
     "iopub.execute_input": "2024-10-26T20:01:35.720162Z",
     "iopub.status.busy": "2024-10-26T20:01:35.719104Z",
     "iopub.status.idle": "2024-10-26T20:01:35.726910Z",
     "shell.execute_reply": "2024-10-26T20:01:35.725692Z",
     "shell.execute_reply.started": "2024-10-26T20:01:35.720112Z"
    },
    "trusted": true
   },
   "outputs": [],
   "source": [
    "import pandas as pd\n",
    "import numpy as np\n",
    "import matplotlib.pyplot as plt\n",
    "import seaborn as sns\n",
    "\n",
    "from sklearn.linear_model import LinearRegression\n",
    "from sklearn import metrics\n",
    "from sklearn.preprocessing import StandardScaler\n",
    "from sklearn.model_selection import train_test_split\n",
    "\n",
    "from tensorflow.keras.models import Sequential\n",
    "from tensorflow.keras.layers import Input, Dense, Activation\n",
    "from tensorflow.keras.optimizers import Adam"
   ]
  },
  {
   "cell_type": "markdown",
   "metadata": {},
   "source": [
    "## Import Datasets"
   ]
  },
  {
   "cell_type": "code",
   "execution_count": 2,
   "metadata": {
    "execution": {
     "iopub.execute_input": "2024-10-26T19:48:29.059875Z",
     "iopub.status.busy": "2024-10-26T19:48:29.059457Z",
     "iopub.status.idle": "2024-10-26T19:48:29.672301Z",
     "shell.execute_reply": "2024-10-26T19:48:29.671184Z",
     "shell.execute_reply.started": "2024-10-26T19:48:29.059835Z"
    },
    "trusted": true
   },
   "outputs": [
    {
     "data": {
      "text/html": [
       "<div>\n",
       "<style scoped>\n",
       "    .dataframe tbody tr th:only-of-type {\n",
       "        vertical-align: middle;\n",
       "    }\n",
       "\n",
       "    .dataframe tbody tr th {\n",
       "        vertical-align: top;\n",
       "    }\n",
       "\n",
       "    .dataframe thead th {\n",
       "        text-align: right;\n",
       "    }\n",
       "</style>\n",
       "<table border=\"1\" class=\"dataframe\">\n",
       "  <thead>\n",
       "    <tr style=\"text-align: right;\">\n",
       "      <th></th>\n",
       "      <th>NET DEMAND</th>\n",
       "      <th>T2M TOC</th>\n",
       "      <th>RH2M TOC</th>\n",
       "      <th>LP2M TOC</th>\n",
       "      <th>WS2M TOC</th>\n",
       "      <th>T2M SAN</th>\n",
       "      <th>RH2M SAN</th>\n",
       "      <th>LP2M SAN</th>\n",
       "      <th>WS2M SAN</th>\n",
       "      <th>T2M DAV</th>\n",
       "      <th>RH2M DAV</th>\n",
       "      <th>LP2M DAV</th>\n",
       "      <th>WS2M DAV</th>\n",
       "      <th>Holiday_ID</th>\n",
       "      <th>Holiday</th>\n",
       "      <th>School</th>\n",
       "    </tr>\n",
       "    <tr>\n",
       "      <th>datetime</th>\n",
       "      <th></th>\n",
       "      <th></th>\n",
       "      <th></th>\n",
       "      <th></th>\n",
       "      <th></th>\n",
       "      <th></th>\n",
       "      <th></th>\n",
       "      <th></th>\n",
       "      <th></th>\n",
       "      <th></th>\n",
       "      <th></th>\n",
       "      <th></th>\n",
       "      <th></th>\n",
       "      <th></th>\n",
       "      <th></th>\n",
       "      <th></th>\n",
       "    </tr>\n",
       "  </thead>\n",
       "  <tbody>\n",
       "    <tr>\n",
       "      <th>2017-01-02 01:00:00</th>\n",
       "      <td>970.3450</td>\n",
       "      <td>25.865259</td>\n",
       "      <td>0.018576</td>\n",
       "      <td>0.016174</td>\n",
       "      <td>21.850546</td>\n",
       "      <td>23.482446</td>\n",
       "      <td>0.017272</td>\n",
       "      <td>0.001855</td>\n",
       "      <td>10.328949</td>\n",
       "      <td>22.662134</td>\n",
       "      <td>0.016562</td>\n",
       "      <td>0.096100</td>\n",
       "      <td>5.364148</td>\n",
       "      <td>0</td>\n",
       "      <td>0</td>\n",
       "      <td>0</td>\n",
       "    </tr>\n",
       "    <tr>\n",
       "      <th>2017-01-02 02:00:00</th>\n",
       "      <td>912.1755</td>\n",
       "      <td>25.899255</td>\n",
       "      <td>0.018653</td>\n",
       "      <td>0.016418</td>\n",
       "      <td>22.166944</td>\n",
       "      <td>23.399255</td>\n",
       "      <td>0.017265</td>\n",
       "      <td>0.001327</td>\n",
       "      <td>10.681517</td>\n",
       "      <td>22.578943</td>\n",
       "      <td>0.016509</td>\n",
       "      <td>0.087646</td>\n",
       "      <td>5.572471</td>\n",
       "      <td>0</td>\n",
       "      <td>0</td>\n",
       "      <td>0</td>\n",
       "    </tr>\n",
       "    <tr>\n",
       "      <th>2017-01-02 03:00:00</th>\n",
       "      <td>900.2688</td>\n",
       "      <td>25.937280</td>\n",
       "      <td>0.018768</td>\n",
       "      <td>0.015480</td>\n",
       "      <td>22.454911</td>\n",
       "      <td>23.343530</td>\n",
       "      <td>0.017211</td>\n",
       "      <td>0.001428</td>\n",
       "      <td>10.874924</td>\n",
       "      <td>22.531030</td>\n",
       "      <td>0.016479</td>\n",
       "      <td>0.078735</td>\n",
       "      <td>5.871184</td>\n",
       "      <td>0</td>\n",
       "      <td>0</td>\n",
       "      <td>0</td>\n",
       "    </tr>\n",
       "    <tr>\n",
       "      <th>2017-01-02 04:00:00</th>\n",
       "      <td>889.9538</td>\n",
       "      <td>25.957544</td>\n",
       "      <td>0.018890</td>\n",
       "      <td>0.016273</td>\n",
       "      <td>22.110481</td>\n",
       "      <td>23.238794</td>\n",
       "      <td>0.017128</td>\n",
       "      <td>0.002599</td>\n",
       "      <td>10.518620</td>\n",
       "      <td>22.512231</td>\n",
       "      <td>0.016487</td>\n",
       "      <td>0.068390</td>\n",
       "      <td>5.883621</td>\n",
       "      <td>0</td>\n",
       "      <td>0</td>\n",
       "      <td>0</td>\n",
       "    </tr>\n",
       "    <tr>\n",
       "      <th>2017-01-02 05:00:00</th>\n",
       "      <td>893.6865</td>\n",
       "      <td>25.973840</td>\n",
       "      <td>0.018981</td>\n",
       "      <td>0.017281</td>\n",
       "      <td>21.186089</td>\n",
       "      <td>23.075403</td>\n",
       "      <td>0.017059</td>\n",
       "      <td>0.001729</td>\n",
       "      <td>9.733589</td>\n",
       "      <td>22.481653</td>\n",
       "      <td>0.016456</td>\n",
       "      <td>0.064362</td>\n",
       "      <td>5.611724</td>\n",
       "      <td>0</td>\n",
       "      <td>0</td>\n",
       "      <td>0</td>\n",
       "    </tr>\n",
       "  </tbody>\n",
       "</table>\n",
       "</div>"
      ],
      "text/plain": [
       "                     NET DEMAND    T2M TOC  RH2M TOC  LP2M TOC   WS2M TOC  \\\n",
       "datetime                                                                    \n",
       "2017-01-02 01:00:00    970.3450  25.865259  0.018576  0.016174  21.850546   \n",
       "2017-01-02 02:00:00    912.1755  25.899255  0.018653  0.016418  22.166944   \n",
       "2017-01-02 03:00:00    900.2688  25.937280  0.018768  0.015480  22.454911   \n",
       "2017-01-02 04:00:00    889.9538  25.957544  0.018890  0.016273  22.110481   \n",
       "2017-01-02 05:00:00    893.6865  25.973840  0.018981  0.017281  21.186089   \n",
       "\n",
       "                       T2M SAN  RH2M SAN  LP2M SAN   WS2M SAN    T2M DAV  \\\n",
       "datetime                                                                   \n",
       "2017-01-02 01:00:00  23.482446  0.017272  0.001855  10.328949  22.662134   \n",
       "2017-01-02 02:00:00  23.399255  0.017265  0.001327  10.681517  22.578943   \n",
       "2017-01-02 03:00:00  23.343530  0.017211  0.001428  10.874924  22.531030   \n",
       "2017-01-02 04:00:00  23.238794  0.017128  0.002599  10.518620  22.512231   \n",
       "2017-01-02 05:00:00  23.075403  0.017059  0.001729   9.733589  22.481653   \n",
       "\n",
       "                     RH2M DAV  LP2M DAV  WS2M DAV  Holiday_ID  Holiday  School  \n",
       "datetime                                                                        \n",
       "2017-01-02 01:00:00  0.016562  0.096100  5.364148           0        0       0  \n",
       "2017-01-02 02:00:00  0.016509  0.087646  5.572471           0        0       0  \n",
       "2017-01-02 03:00:00  0.016479  0.078735  5.871184           0        0       0  \n",
       "2017-01-02 04:00:00  0.016487  0.068390  5.883621           0        0       0  \n",
       "2017-01-02 05:00:00  0.016456  0.064362  5.611724           0        0       0  "
      ]
     },
     "execution_count": 2,
     "metadata": {},
     "output_type": "execute_result"
    }
   ],
   "source": [
    "df = pd.read_csv('Load Demand with Meteological Data.csv', parse_dates= ['datetime'], index_col= ['datetime'])\n",
    "df.head(5)"
   ]
  },
  {
   "cell_type": "code",
   "execution_count": null,
   "metadata": {
    "execution": {
     "iopub.execute_input": "2024-10-26T19:48:31.538795Z",
     "iopub.status.busy": "2024-10-26T19:48:31.538390Z",
     "iopub.status.idle": "2024-10-26T19:48:31.567560Z",
     "shell.execute_reply": "2024-10-26T19:48:31.566469Z",
     "shell.execute_reply.started": "2024-10-26T19:48:31.538756Z"
    },
    "trusted": true
   },
   "outputs": [],
   "source": [
    "df.tail(10)"
   ]
  },
  {
   "cell_type": "markdown",
   "metadata": {},
   "source": [
    "## DataFrame Exploration"
   ]
  },
  {
   "cell_type": "code",
   "execution_count": null,
   "metadata": {
    "execution": {
     "iopub.execute_input": "2024-10-26T19:48:36.679588Z",
     "iopub.status.busy": "2024-10-26T19:48:36.678616Z",
     "iopub.status.idle": "2024-10-26T19:48:36.686247Z",
     "shell.execute_reply": "2024-10-26T19:48:36.685153Z",
     "shell.execute_reply.started": "2024-10-26T19:48:36.679542Z"
    },
    "trusted": true
   },
   "outputs": [],
   "source": [
    "df.shape"
   ]
  },
  {
   "cell_type": "code",
   "execution_count": null,
   "metadata": {
    "execution": {
     "iopub.execute_input": "2024-10-26T19:48:45.439381Z",
     "iopub.status.busy": "2024-10-26T19:48:45.438931Z",
     "iopub.status.idle": "2024-10-26T19:48:45.545972Z",
     "shell.execute_reply": "2024-10-26T19:48:45.544803Z",
     "shell.execute_reply.started": "2024-10-26T19:48:45.439329Z"
    },
    "trusted": true
   },
   "outputs": [],
   "source": [
    "df.info()\n",
    "df.describe().T"
   ]
  },
  {
   "cell_type": "markdown",
   "metadata": {},
   "source": [
    "### Histogram"
   ]
  },
  {
   "cell_type": "code",
   "execution_count": null,
   "metadata": {
    "execution": {
     "iopub.execute_input": "2024-10-26T19:49:39.219583Z",
     "iopub.status.busy": "2024-10-26T19:49:39.219121Z",
     "iopub.status.idle": "2024-10-26T19:49:39.579574Z",
     "shell.execute_reply": "2024-10-26T19:49:39.578450Z",
     "shell.execute_reply.started": "2024-10-26T19:49:39.219538Z"
    },
    "trusted": true
   },
   "outputs": [],
   "source": [
    "# Plot a histogram\n",
    "plt.hist(df['NET DEMAND'], bins=10)\n",
    "plt.xlabel('Demand')\n",
    "plt.ylabel('Frequency')\n",
    "plt.title('Distribution of Demand')\n",
    "plt.show()"
   ]
  },
  {
   "cell_type": "code",
   "execution_count": null,
   "metadata": {
    "execution": {
     "iopub.execute_input": "2024-10-26T19:50:23.739576Z",
     "iopub.status.busy": "2024-10-26T19:50:23.738692Z",
     "iopub.status.idle": "2024-10-26T19:50:24.286401Z",
     "shell.execute_reply": "2024-10-26T19:50:24.285169Z",
     "shell.execute_reply.started": "2024-10-26T19:50:23.739529Z"
    },
    "trusted": true
   },
   "outputs": [],
   "source": [
    "sns.distplot(df['NET DEMAND'], bins=10)\n",
    "plt.xlabel('Demand')\n",
    "plt.ylabel('Density')\n",
    "plt.title('Distribution of Demand')\n",
    "plt.show()"
   ]
  },
  {
   "cell_type": "markdown",
   "metadata": {},
   "source": [
    "### Checking for null values"
   ]
  },
  {
   "cell_type": "code",
   "execution_count": null,
   "metadata": {
    "execution": {
     "iopub.execute_input": "2024-10-26T19:50:29.259773Z",
     "iopub.status.busy": "2024-10-26T19:50:29.258967Z",
     "iopub.status.idle": "2024-10-26T19:50:29.270038Z",
     "shell.execute_reply": "2024-10-26T19:50:29.268986Z",
     "shell.execute_reply.started": "2024-10-26T19:50:29.259720Z"
    },
    "trusted": true
   },
   "outputs": [],
   "source": [
    "df.isnull().sum()"
   ]
  },
  {
   "cell_type": "markdown",
   "metadata": {},
   "source": [
    "## Data Correlation"
   ]
  },
  {
   "cell_type": "code",
   "execution_count": null,
   "metadata": {
    "execution": {
     "iopub.execute_input": "2024-10-26T19:50:47.219102Z",
     "iopub.status.busy": "2024-10-26T19:50:47.218683Z",
     "iopub.status.idle": "2024-10-26T19:50:47.268535Z",
     "shell.execute_reply": "2024-10-26T19:50:47.267455Z",
     "shell.execute_reply.started": "2024-10-26T19:50:47.219063Z"
    },
    "trusted": true
   },
   "outputs": [],
   "source": [
    "df.corr()['NET DEMAND'].sort_values(ascending=False)"
   ]
  },
  {
   "cell_type": "code",
   "execution_count": null,
   "metadata": {},
   "outputs": [],
   "source": [
    "# Create correlation matrix\n",
    "corr_matrix = df.corr()\n",
    "\n",
    "# Plot correlation heatmap\n",
    "plt.figure(figsize=(10, 8))\n",
    "sns.heatmap(corr_matrix, annot=True, cmap='coolwarm', square=True)\n",
    "\n",
    "# Display the plot\n",
    "plt.show()"
   ]
  },
  {
   "cell_type": "code",
   "execution_count": null,
   "metadata": {
    "execution": {
     "iopub.execute_input": "2024-10-26T19:51:06.404454Z",
     "iopub.status.busy": "2024-10-26T19:51:06.403496Z",
     "iopub.status.idle": "2024-10-26T19:51:06.855151Z",
     "shell.execute_reply": "2024-10-26T19:51:06.853979Z",
     "shell.execute_reply.started": "2024-10-26T19:51:06.404406Z"
    },
    "trusted": true
   },
   "outputs": [],
   "source": [
    "column_of_interest = 'NET DEMAND'  # Replace 'column_name' with the actual column name\n",
    "\n",
    "# Create correlation matrix\n",
    "corr_matrix = df.corr()\n",
    "\n",
    "# Filter correlation values for the specified column\n",
    "corr_values = corr_matrix[column_of_interest]\n",
    "\n",
    "# Sort the correlation values in descending order\n",
    "sorted_corr_values = corr_values.sort_values(ascending=False)\n",
    "\n",
    "# Increase plot size\n",
    "plt.figure(figsize=(16, 10))\n",
    "\n",
    "# Plot correlation heatmap sorted by heat levels\n",
    "sns.heatmap(pd.DataFrame(sorted_corr_values), annot=True, cmap='coolwarm', square=True)\n",
    "\n",
    "# Set the plot title\n",
    "plt.title(f'Correlation Heatmap for Column: {column_of_interest}')\n",
    "\n",
    "# Display the plot\n",
    "plt.show()"
   ]
  },
  {
   "cell_type": "code",
   "execution_count": null,
   "metadata": {
    "execution": {
     "iopub.execute_input": "2024-10-26T19:52:08.939421Z",
     "iopub.status.busy": "2024-10-26T19:52:08.938980Z",
     "iopub.status.idle": "2024-10-26T19:52:09.584938Z",
     "shell.execute_reply": "2024-10-26T19:52:09.583619Z",
     "shell.execute_reply.started": "2024-10-26T19:52:08.939378Z"
    },
    "trusted": true
   },
   "outputs": [],
   "source": [
    "plt.figure(figsize=(20,10))\n",
    "sns.scatterplot(x='NET DEMAND',y='T2M TOC',data=df)\n",
    "plt.xlabel('National Demand in KWh')\n",
    "plt.ylabel('Temperature at 2 metre in Tocumen, Panama City')"
   ]
  },
  {
   "cell_type": "markdown",
   "metadata": {},
   "source": [
    "## Plots"
   ]
  },
  {
   "cell_type": "code",
   "execution_count": null,
   "metadata": {
    "execution": {
     "iopub.execute_input": "2024-10-26T19:54:29.059620Z",
     "iopub.status.busy": "2024-10-26T19:54:29.059090Z",
     "iopub.status.idle": "2024-10-26T19:54:29.690600Z",
     "shell.execute_reply": "2024-10-26T19:54:29.689431Z",
     "shell.execute_reply.started": "2024-10-26T19:54:29.059573Z"
    },
    "trusted": true
   },
   "outputs": [],
   "source": [
    "df.drop(['NET DEMAND', 'Holiday', 'Holiday_ID', 'RH2M SAN', 'RH2M DAV', 'RH2M TOC'], axis=1).resample('D').mean().head(10).plot(figsize=(20, 10))"
   ]
  },
  {
   "cell_type": "code",
   "execution_count": null,
   "metadata": {
    "execution": {
     "iopub.execute_input": "2024-10-26T19:55:01.819738Z",
     "iopub.status.busy": "2024-10-26T19:55:01.819276Z",
     "iopub.status.idle": "2024-10-26T19:55:02.237427Z",
     "shell.execute_reply": "2024-10-26T19:55:02.236251Z",
     "shell.execute_reply.started": "2024-10-26T19:55:01.819699Z"
    },
    "trusted": true
   },
   "outputs": [],
   "source": [
    "df['NET DEMAND'].head(100).plot(figsize=(20, 10), legend=True)\n",
    "plt.ylabel('Demand in Units')\n",
    "plt.show()"
   ]
  },
  {
   "cell_type": "code",
   "execution_count": null,
   "metadata": {
    "execution": {
     "iopub.execute_input": "2024-10-26T19:56:09.393828Z",
     "iopub.status.busy": "2024-10-26T19:56:09.393300Z",
     "iopub.status.idle": "2024-10-26T19:56:09.822747Z",
     "shell.execute_reply": "2024-10-26T19:56:09.821618Z",
     "shell.execute_reply.started": "2024-10-26T19:56:09.393771Z"
    },
    "trusted": true
   },
   "outputs": [],
   "source": [
    "df['NET DEMAND'].resample('D').sum().head(10).plot(figsize=(20, 10), legend=True)\n",
    "plt.ylabel('Demand in Units')\n",
    "plt.show()"
   ]
  },
  {
   "cell_type": "code",
   "execution_count": null,
   "metadata": {
    "execution": {
     "iopub.execute_input": "2024-10-26T19:56:21.514176Z",
     "iopub.status.busy": "2024-10-26T19:56:21.513727Z",
     "iopub.status.idle": "2024-10-26T19:56:21.977146Z",
     "shell.execute_reply": "2024-10-26T19:56:21.975954Z",
     "shell.execute_reply.started": "2024-10-26T19:56:21.514133Z"
    },
    "trusted": true
   },
   "outputs": [],
   "source": [
    "df['NET DEMAND'].resample('M').sum().head(100).plot(figsize=(20, 10), legend=True)\n",
    "plt.ylabel('Demand in Units')\n",
    "plt.show()"
   ]
  },
  {
   "cell_type": "markdown",
   "metadata": {},
   "source": [
    "## Splitting The Data"
   ]
  },
  {
   "cell_type": "code",
   "execution_count": null,
   "metadata": {
    "execution": {
     "iopub.execute_input": "2024-10-26T19:56:46.839332Z",
     "iopub.status.busy": "2024-10-26T19:56:46.838855Z",
     "iopub.status.idle": "2024-10-26T19:56:46.862823Z",
     "shell.execute_reply": "2024-10-26T19:56:46.861583Z",
     "shell.execute_reply.started": "2024-10-26T19:56:46.839287Z"
    },
    "trusted": true
   },
   "outputs": [],
   "source": [
    "x = df.drop('NET DEMAND',axis =1).values\n",
    "y = df['NET DEMAND'].values\n",
    "\n",
    "#splitting Train and Test \n",
    "x_train, x_test, y_train, y_test = train_test_split(x, y, test_size=0.3, random_state=100)"
   ]
  },
  {
   "cell_type": "code",
   "execution_count": null,
   "metadata": {
    "execution": {
     "iopub.execute_input": "2024-10-26T19:56:50.219125Z",
     "iopub.status.busy": "2024-10-26T19:56:50.218700Z",
     "iopub.status.idle": "2024-10-26T19:56:50.226547Z",
     "shell.execute_reply": "2024-10-26T19:56:50.225184Z",
     "shell.execute_reply.started": "2024-10-26T19:56:50.219084Z"
    },
    "trusted": true
   },
   "outputs": [],
   "source": [
    "# x_train\n",
    "x_train.shape"
   ]
  },
  {
   "cell_type": "code",
   "execution_count": null,
   "metadata": {
    "execution": {
     "iopub.execute_input": "2024-10-26T19:56:51.384856Z",
     "iopub.status.busy": "2024-10-26T19:56:51.384126Z",
     "iopub.status.idle": "2024-10-26T19:56:51.391914Z",
     "shell.execute_reply": "2024-10-26T19:56:51.390706Z",
     "shell.execute_reply.started": "2024-10-26T19:56:51.384812Z"
    },
    "trusted": true
   },
   "outputs": [],
   "source": [
    "# x_test\n",
    "x_test.shape"
   ]
  },
  {
   "cell_type": "code",
   "execution_count": null,
   "metadata": {
    "execution": {
     "iopub.execute_input": "2024-10-26T19:56:52.789761Z",
     "iopub.status.busy": "2024-10-26T19:56:52.788728Z",
     "iopub.status.idle": "2024-10-26T19:56:52.796814Z",
     "shell.execute_reply": "2024-10-26T19:56:52.795569Z",
     "shell.execute_reply.started": "2024-10-26T19:56:52.789711Z"
    },
    "trusted": true
   },
   "outputs": [],
   "source": [
    "y_test.shape"
   ]
  },
  {
   "cell_type": "markdown",
   "metadata": {},
   "source": [
    "## Fitting & Transforming"
   ]
  },
  {
   "cell_type": "code",
   "execution_count": null,
   "metadata": {
    "execution": {
     "iopub.execute_input": "2024-10-26T19:56:55.819111Z",
     "iopub.status.busy": "2024-10-26T19:56:55.818678Z",
     "iopub.status.idle": "2024-10-26T19:56:55.842979Z",
     "shell.execute_reply": "2024-10-26T19:56:55.841856Z",
     "shell.execute_reply.started": "2024-10-26T19:56:55.819068Z"
    },
    "trusted": true
   },
   "outputs": [],
   "source": [
    "#standardization scaler - fit&transform on train, fit only on test\n",
    "s_scaler = StandardScaler()\n",
    "\n",
    "x_train = s_scaler.fit_transform(x_train.astype(float))\n",
    "x_test = s_scaler.transform(x_test.astype(float))"
   ]
  },
  {
   "cell_type": "markdown",
   "metadata": {},
   "source": [
    "## Linear Regression"
   ]
  },
  {
   "cell_type": "code",
   "execution_count": null,
   "metadata": {
    "execution": {
     "iopub.execute_input": "2024-10-26T19:56:58.598868Z",
     "iopub.status.busy": "2024-10-26T19:56:58.598424Z",
     "iopub.status.idle": "2024-10-26T19:56:58.662494Z",
     "shell.execute_reply": "2024-10-26T19:56:58.661420Z",
     "shell.execute_reply.started": "2024-10-26T19:56:58.598828Z"
    },
    "trusted": true
   },
   "outputs": [],
   "source": [
    "#Linear Regression\n",
    "from sklearn.linear_model import LinearRegression\n",
    "regressor = LinearRegression()  \n",
    "regressor.fit(x_train, y_train)"
   ]
  },
  {
   "cell_type": "markdown",
   "metadata": {},
   "source": [
    "### Evaluate the model (Intercept and Slope)"
   ]
  },
  {
   "cell_type": "code",
   "execution_count": null,
   "metadata": {
    "execution": {
     "iopub.execute_input": "2024-10-26T19:57:04.099655Z",
     "iopub.status.busy": "2024-10-26T19:57:04.099109Z",
     "iopub.status.idle": "2024-10-26T19:57:04.107290Z",
     "shell.execute_reply": "2024-10-26T19:57:04.106020Z",
     "shell.execute_reply.started": "2024-10-26T19:57:04.099605Z"
    },
    "trusted": true
   },
   "outputs": [],
   "source": [
    "regressor.intercept_"
   ]
  },
  {
   "cell_type": "code",
   "execution_count": null,
   "metadata": {
    "execution": {
     "iopub.execute_input": "2024-10-26T19:57:04.939173Z",
     "iopub.status.busy": "2024-10-26T19:57:04.938716Z",
     "iopub.status.idle": "2024-10-26T19:57:04.946818Z",
     "shell.execute_reply": "2024-10-26T19:57:04.945533Z",
     "shell.execute_reply.started": "2024-10-26T19:57:04.939125Z"
    },
    "trusted": true
   },
   "outputs": [],
   "source": [
    "regressor.coef_"
   ]
  },
  {
   "cell_type": "code",
   "execution_count": null,
   "metadata": {
    "execution": {
     "iopub.execute_input": "2024-10-26T19:57:06.198991Z",
     "iopub.status.busy": "2024-10-26T19:57:06.198542Z",
     "iopub.status.idle": "2024-10-26T19:57:06.224508Z",
     "shell.execute_reply": "2024-10-26T19:57:06.223064Z",
     "shell.execute_reply.started": "2024-10-26T19:57:06.198950Z"
    },
    "trusted": true
   },
   "outputs": [],
   "source": [
    "y_line_pred = regressor.predict(x_test)\n",
    "df_Lpred = pd.DataFrame({'Test Data': y_test, 'Linear Regression Prediction': y_line_pred})\n",
    "df_Lpred.head(10)"
   ]
  },
  {
   "cell_type": "code",
   "execution_count": null,
   "metadata": {
    "execution": {
     "iopub.execute_input": "2024-10-26T19:57:09.539268Z",
     "iopub.status.busy": "2024-10-26T19:57:09.538820Z",
     "iopub.status.idle": "2024-10-26T19:57:09.919209Z",
     "shell.execute_reply": "2024-10-26T19:57:09.917659Z",
     "shell.execute_reply.started": "2024-10-26T19:57:09.539226Z"
    },
    "trusted": true
   },
   "outputs": [],
   "source": [
    "df_Lpred.head(100).plot(figsize=(20, 10))\n",
    "plt.ylabel('Demand')\n",
    "plt.xlabel('Time')\n",
    "plt.show()"
   ]
  },
  {
   "cell_type": "code",
   "execution_count": null,
   "metadata": {
    "execution": {
     "iopub.execute_input": "2024-10-26T19:57:14.200120Z",
     "iopub.status.busy": "2024-10-26T19:57:14.198940Z",
     "iopub.status.idle": "2024-10-26T19:57:14.211680Z",
     "shell.execute_reply": "2024-10-26T19:57:14.210061Z",
     "shell.execute_reply.started": "2024-10-26T19:57:14.200056Z"
    },
    "trusted": true
   },
   "outputs": [],
   "source": [
    "print('Mean Absolute Error: {:.2f}'.format(metrics.mean_absolute_error(y_test, y_line_pred))) \n",
    "print('Mean Squared Error: {:.2f}'.format(metrics.mean_squared_error(y_test, y_line_pred)))  \n",
    "print('Root Mean Squared Error: {:.2f}'.format(np.sqrt(metrics.mean_squared_error(y_test, y_line_pred))))\n",
    "print('Variance score is: {:.2f}'.format(metrics.explained_variance_score(y_test,y_line_pred)))"
   ]
  },
  {
   "cell_type": "markdown",
   "metadata": {},
   "source": [
    "## Neural Network"
   ]
  },
  {
   "cell_type": "code",
   "execution_count": null,
   "metadata": {
    "execution": {
     "iopub.execute_input": "2024-10-26T20:01:49.478992Z",
     "iopub.status.busy": "2024-10-26T20:01:49.478577Z",
     "iopub.status.idle": "2024-10-26T20:01:49.540523Z",
     "shell.execute_reply": "2024-10-26T20:01:49.539363Z",
     "shell.execute_reply.started": "2024-10-26T20:01:49.478953Z"
    },
    "trusted": true
   },
   "outputs": [],
   "source": [
    "# having 16 neuron is based on the number of available features\n",
    "\n",
    "model = Sequential()\n",
    "\n",
    "model.add(Input(shape=(15,)))\n",
    "model.add(Dense(225, activation='relu'))\n",
    "model.add(Dense(225, activation='relu'))\n",
    "model.add(Dense(225, activation='relu'))\n",
    "model.add(Dense(1, activation='linear'))\n",
    "\n",
    "model.compile(optimizer=Adam(learning_rate=0.001), loss='mse')"
   ]
  },
  {
   "cell_type": "code",
   "execution_count": null,
   "metadata": {
    "execution": {
     "iopub.execute_input": "2024-10-26T20:02:03.499695Z",
     "iopub.status.busy": "2024-10-26T20:02:03.498910Z",
     "iopub.status.idle": "2024-10-26T20:03:03.582727Z",
     "shell.execute_reply": "2024-10-26T20:03:03.581454Z",
     "shell.execute_reply.started": "2024-10-26T20:02:03.499647Z"
    },
    "trusted": true
   },
   "outputs": [],
   "source": [
    "model.fit(x=x_train,y=y_train,\n",
    "          validation_data=(x_test,y_test),\n",
    "          batch_size=128,epochs=50)"
   ]
  },
  {
   "cell_type": "code",
   "execution_count": null,
   "metadata": {
    "execution": {
     "iopub.execute_input": "2024-10-26T20:03:09.099470Z",
     "iopub.status.busy": "2024-10-26T20:03:09.098889Z",
     "iopub.status.idle": "2024-10-26T20:03:09.126873Z",
     "shell.execute_reply": "2024-10-26T20:03:09.125634Z",
     "shell.execute_reply.started": "2024-10-26T20:03:09.099421Z"
    },
    "trusted": true
   },
   "outputs": [],
   "source": [
    "model.summary()"
   ]
  },
  {
   "cell_type": "code",
   "execution_count": null,
   "metadata": {
    "execution": {
     "iopub.execute_input": "2024-10-26T20:03:14.359983Z",
     "iopub.status.busy": "2024-10-26T20:03:14.358912Z",
     "iopub.status.idle": "2024-10-26T20:03:15.459401Z",
     "shell.execute_reply": "2024-10-26T20:03:15.458231Z",
     "shell.execute_reply.started": "2024-10-26T20:03:14.359932Z"
    },
    "trusted": true
   },
   "outputs": [],
   "source": [
    "y_neo_pred = model.predict(x_test)"
   ]
  },
  {
   "cell_type": "markdown",
   "metadata": {},
   "source": [
    "## Results"
   ]
  },
  {
   "cell_type": "code",
   "execution_count": null,
   "metadata": {
    "execution": {
     "iopub.execute_input": "2024-10-26T20:03:17.879118Z",
     "iopub.status.busy": "2024-10-26T20:03:17.878694Z",
     "iopub.status.idle": "2024-10-26T20:03:17.890697Z",
     "shell.execute_reply": "2024-10-26T20:03:17.889313Z",
     "shell.execute_reply.started": "2024-10-26T20:03:17.879076Z"
    },
    "trusted": true
   },
   "outputs": [],
   "source": [
    "print('Mean Absolute Error: {:.2f}'.format(metrics.mean_absolute_error(y_test, y_neo_pred)))\n",
    "print('Mean Squared Error: {:.2f}'.format(metrics.mean_squared_error(y_test, y_neo_pred)))\n",
    "print('Root Mean Squared Error: {:.2f}'.format(np.sqrt(metrics.mean_squared_error(y_test, y_neo_pred))))\n",
    "print('Variance score is: {:.2f}'.format(metrics.explained_variance_score(y_test,y_neo_pred)))"
   ]
  },
  {
   "cell_type": "markdown",
   "metadata": {},
   "source": [
    "## Prediction Visualization"
   ]
  },
  {
   "cell_type": "code",
   "execution_count": null,
   "metadata": {
    "execution": {
     "iopub.execute_input": "2024-10-26T20:03:22.879903Z",
     "iopub.status.busy": "2024-10-26T20:03:22.879091Z",
     "iopub.status.idle": "2024-10-26T20:03:22.889253Z",
     "shell.execute_reply": "2024-10-26T20:03:22.888061Z",
     "shell.execute_reply.started": "2024-10-26T20:03:22.879855Z"
    },
    "trusted": true
   },
   "outputs": [],
   "source": [
    "concat_arr = np.concatenate((y_neo_pred.reshape(-1, 1), y_test.reshape(-1, 1)), axis=1)\n",
    "concat_arr"
   ]
  },
  {
   "cell_type": "code",
   "execution_count": null,
   "metadata": {
    "execution": {
     "iopub.execute_input": "2024-10-26T20:03:23.399321Z",
     "iopub.status.busy": "2024-10-26T20:03:23.398906Z",
     "iopub.status.idle": "2024-10-26T20:03:23.414393Z",
     "shell.execute_reply": "2024-10-26T20:03:23.413252Z",
     "shell.execute_reply.started": "2024-10-26T20:03:23.399281Z"
    },
    "trusted": true
   },
   "outputs": [],
   "source": [
    "new_dataframe = pd.DataFrame(concat_arr, columns=['TensorFlow Prediction', 'Test Data'])\n",
    "new_dataframe"
   ]
  },
  {
   "cell_type": "code",
   "execution_count": null,
   "metadata": {
    "execution": {
     "iopub.execute_input": "2024-10-26T20:03:26.639096Z",
     "iopub.status.busy": "2024-10-26T20:03:26.638680Z",
     "iopub.status.idle": "2024-10-26T20:03:27.008780Z",
     "shell.execute_reply": "2024-10-26T20:03:27.007630Z",
     "shell.execute_reply.started": "2024-10-26T20:03:26.639057Z"
    },
    "trusted": true
   },
   "outputs": [],
   "source": [
    "new_dataframe.head(100).plot(figsize=(20, 10))\n",
    "plt.ylabel('Demand')\n",
    "plt.xlabel('Time')\n",
    "plt.show()"
   ]
  },
  {
   "cell_type": "markdown",
   "metadata": {},
   "source": [
    "## Prediction using the Model"
   ]
  },
  {
   "cell_type": "code",
   "execution_count": null,
   "metadata": {
    "execution": {
     "iopub.execute_input": "2024-10-26T20:03:33.099180Z",
     "iopub.status.busy": "2024-10-26T20:03:33.098271Z",
     "iopub.status.idle": "2024-10-26T20:03:33.107807Z",
     "shell.execute_reply": "2024-10-26T20:03:33.106478Z",
     "shell.execute_reply.started": "2024-10-26T20:03:33.099064Z"
    },
    "trusted": true
   },
   "outputs": [],
   "source": [
    "def nn_prediction(n):\n",
    "    elec_demand = df.drop('nat_demand',axis = 1).iloc[n-1]\n",
    "\n",
    "    #Scaling/Transform\n",
    "    elec_demand_scaled = s_scaler.transform(elec_demand.values.reshape(-1,15))\n",
    "    elec_demand_scaled\n",
    "\n",
    "    # Prediction data\n",
    "    prediction = np.squeeze(model.predict(elec_demand_scaled))\n",
    "\n",
    "    #Test Data\n",
    "    test_data = df['nat_demand'][n-1]\n",
    "    \n",
    "    df_index = df.iloc[n-1]\n",
    "    df_date = df_index.name.strftime('%Y-%m-%d')  # Format: YYYY-MM-DD\n",
    "    df_time = df_index.name.strftime('%H:%M:%S')  # Format: HH:MM:SS\n",
    "\n",
    "\n",
    "    #Difference between the data values\n",
    "    diff = np.squeeze(model.predict(elec_demand_scaled) - df['nat_demand'][n-1])\n",
    "\n",
    "    print('The Date is : {} \\nThe Time is : {} \\nThe Neural Network predicted value is {} and the Test data value is {}.\\nThe difference between the data is {}'.format(df_date, df_time,prediction, test_data, diff))\n"
   ]
  },
  {
   "cell_type": "code",
   "execution_count": null,
   "metadata": {
    "execution": {
     "iopub.execute_input": "2024-10-26T20:03:34.145113Z",
     "iopub.status.busy": "2024-10-26T20:03:34.144195Z",
     "iopub.status.idle": "2024-10-26T20:03:34.149616Z",
     "shell.execute_reply": "2024-10-26T20:03:34.148507Z",
     "shell.execute_reply.started": "2024-10-26T20:03:34.145064Z"
    },
    "trusted": true
   },
   "outputs": [],
   "source": [
    "# nn_prediction(1)"
   ]
  },
  {
   "cell_type": "code",
   "execution_count": null,
   "metadata": {
    "execution": {
     "iopub.execute_input": "2024-10-26T20:03:35.173867Z",
     "iopub.status.busy": "2024-10-26T20:03:35.173411Z",
     "iopub.status.idle": "2024-10-26T20:03:35.184066Z",
     "shell.execute_reply": "2024-10-26T20:03:35.182638Z",
     "shell.execute_reply.started": "2024-10-26T20:03:35.173823Z"
    },
    "trusted": true
   },
   "outputs": [],
   "source": [
    "def prediction_date(date_time_input):\n",
    "\n",
    "    # Accessing a specific row based on date and time input\n",
    "    date_time_input = str(date_time_input)  # Date and time input you want to search for\n",
    "    date_time = pd.to_datetime(date_time_input)  # Convert string to DateTime\n",
    "\n",
    "    n = df.index.get_loc(date_time) #This is the row number\n",
    "\n",
    "    elec_demand = df.drop('nat_demand',axis = 1).iloc[n] #extrating the input features\n",
    "\n",
    "    #Scaling/Transform\n",
    "    elec_demand_scaled = s_scaler.transform(elec_demand.values.reshape(-1,15))\n",
    "    elec_demand_scaled\n",
    "\n",
    "    # Prediction data\n",
    "    prediction = np.squeeze(model.predict(elec_demand_scaled))\n",
    "\n",
    "    #Test Data\n",
    "    test_data = df['nat_demand'][n]\n",
    "    \n",
    "    df_index = df.iloc[n]\n",
    "    df_date = df_index.name.strftime('%Y-%m-%d')  # Format: YYYY-MM-DD\n",
    "    df_time = df_index.name.strftime('%H:%M:%S')  # Format: HH:MM:SS\n",
    "\n",
    "\n",
    "    #Difference between the data values\n",
    "    diff = np.squeeze(model.predict(elec_demand_scaled) - df['nat_demand'][n])\n",
    "\n",
    "    print('The Date is : {} \\nThe Time is : {} \\nThe Neural Network predicted value is {} and the Test data value is {}.\\nThe difference between the data is {}'.format(df_date, df_time,prediction, test_data, diff))\n",
    "\n",
    "    \n",
    "    "
   ]
  },
  {
   "cell_type": "code",
   "execution_count": null,
   "metadata": {
    "execution": {
     "iopub.execute_input": "2024-10-26T20:03:35.774153Z",
     "iopub.status.busy": "2024-10-26T20:03:35.773717Z",
     "iopub.status.idle": "2024-10-26T20:03:35.779556Z",
     "shell.execute_reply": "2024-10-26T20:03:35.778211Z",
     "shell.execute_reply.started": "2024-10-26T20:03:35.774112Z"
    },
    "trusted": true
   },
   "outputs": [],
   "source": [
    "# prediction_date('2015-01-03 01:00:00')"
   ]
  },
  {
   "cell_type": "code",
   "execution_count": null,
   "metadata": {
    "execution": {
     "iopub.execute_input": "2024-10-26T20:03:36.279586Z",
     "iopub.status.busy": "2024-10-26T20:03:36.278746Z",
     "iopub.status.idle": "2024-10-26T20:03:36.284514Z",
     "shell.execute_reply": "2024-10-26T20:03:36.283241Z",
     "shell.execute_reply.started": "2024-10-26T20:03:36.279536Z"
    },
    "trusted": true
   },
   "outputs": [],
   "source": [
    "# date_time = input(\"Enter date&time\")"
   ]
  },
  {
   "cell_type": "code",
   "execution_count": null,
   "metadata": {
    "execution": {
     "iopub.execute_input": "2024-10-26T20:03:36.619840Z",
     "iopub.status.busy": "2024-10-26T20:03:36.619249Z",
     "iopub.status.idle": "2024-10-26T20:03:36.625945Z",
     "shell.execute_reply": "2024-10-26T20:03:36.624335Z",
     "shell.execute_reply.started": "2024-10-26T20:03:36.619785Z"
    },
    "trusted": true
   },
   "outputs": [],
   "source": [
    "# try:\n",
    "#     prediction_date(date_time)\n",
    "\n",
    "# except ValueError:\n",
    "#     print('Wrong value!!!\\nEnter a Time period from 2015-01-03 01:00:00 to 2020-06-27 00:00:00\t')"
   ]
  },
  {
   "cell_type": "markdown",
   "metadata": {},
   "source": [
    "## Results and Final Evaluation"
   ]
  },
  {
   "cell_type": "code",
   "execution_count": null,
   "metadata": {
    "execution": {
     "iopub.execute_input": "2024-10-26T20:03:37.459706Z",
     "iopub.status.busy": "2024-10-26T20:03:37.459103Z",
     "iopub.status.idle": "2024-10-26T20:03:37.481675Z",
     "shell.execute_reply": "2024-10-26T20:03:37.480240Z",
     "shell.execute_reply.started": "2024-10-26T20:03:37.459636Z"
    },
    "trusted": true
   },
   "outputs": [],
   "source": [
    "print('Linear Regression')\n",
    "print('Mean Absolute Error: {:.2f}'.format(metrics.mean_absolute_error(y_test, y_line_pred))) \n",
    "print('Mean Squared Error: {:.2f}'.format(metrics.mean_squared_error(y_test, y_line_pred)))  \n",
    "print('Root Mean Squared Error: {:.2f}'.format(np.sqrt(metrics.mean_squared_error(y_test, y_line_pred))))\n",
    "print('Variance score is: {:.2f}'.format(metrics.explained_variance_score(y_test,y_line_pred)))\n",
    "\n",
    "print('\\n*****************************************************************************\\n')\n",
    "\n",
    "print('Tensorflow Keras Prediction')\n",
    "print('Mean Absolute Error: {:.2f}'.format(metrics.mean_absolute_error(y_test, y_neo_pred)))\n",
    "print('Mean Squared Error: {:.2f}'.format(metrics.mean_squared_error(y_test, y_neo_pred)))\n",
    "print('Root Mean Squared Error: {:.2f}'.format(np.sqrt(metrics.mean_squared_error(y_test, y_neo_pred))))\n",
    "print('Variance score is: {:.2f}'.format(metrics.explained_variance_score(y_test,y_neo_pred)))"
   ]
  },
  {
   "cell_type": "code",
   "execution_count": null,
   "metadata": {
    "execution": {
     "iopub.execute_input": "2024-10-26T20:03:44.978989Z",
     "iopub.status.busy": "2024-10-26T20:03:44.978569Z",
     "iopub.status.idle": "2024-10-26T20:03:44.985545Z",
     "shell.execute_reply": "2024-10-26T20:03:44.984272Z",
     "shell.execute_reply.started": "2024-10-26T20:03:44.978947Z"
    },
    "trusted": true
   },
   "outputs": [],
   "source": [
    "def calculate_accuracy(ypred, ytest):\n",
    "    # Calculate absolute percentage error for each pair of values\n",
    "    absolute_percentage_error = np.abs((ypred - ytest) / ytest)\n",
    "    \n",
    "    # Calculate mean absolute percentage error (MAPE)\n",
    "    mean_absolute_percentage_error = np.mean(absolute_percentage_error) * 100\n",
    "    \n",
    "    # Calculate accuracy as 100 - MAPE\n",
    "    accuracy = 100 - mean_absolute_percentage_error\n",
    "    \n",
    "    return print('The Accuracy is {}%'.format(accuracy))"
   ]
  },
  {
   "cell_type": "code",
   "execution_count": null,
   "metadata": {
    "execution": {
     "iopub.execute_input": "2024-10-26T20:03:45.919303Z",
     "iopub.status.busy": "2024-10-26T20:03:45.918849Z",
     "iopub.status.idle": "2024-10-26T20:03:45.925906Z",
     "shell.execute_reply": "2024-10-26T20:03:45.924769Z",
     "shell.execute_reply.started": "2024-10-26T20:03:45.919259Z"
    },
    "trusted": true
   },
   "outputs": [],
   "source": [
    "calculate_accuracy(y_line_pred, y_test)"
   ]
  },
  {
   "cell_type": "code",
   "execution_count": null,
   "metadata": {
    "execution": {
     "iopub.execute_input": "2024-10-26T20:03:48.919022Z",
     "iopub.status.busy": "2024-10-26T20:03:48.918569Z",
     "iopub.status.idle": "2024-10-26T20:03:51.142733Z",
     "shell.execute_reply": "2024-10-26T20:03:51.141436Z",
     "shell.execute_reply.started": "2024-10-26T20:03:48.918978Z"
    },
    "trusted": true
   },
   "outputs": [],
   "source": [
    "calculate_accuracy(y_neo_pred, y_test)"
   ]
  },
  {
   "cell_type": "code",
   "execution_count": null,
   "metadata": {},
   "outputs": [],
   "source": []
  }
 ],
 "metadata": {
  "kaggle": {
   "accelerator": "none",
   "dataSources": [
    {
     "datasetId": 5954561,
     "sourceId": 9730356,
     "sourceType": "datasetVersion"
    }
   ],
   "isGpuEnabled": false,
   "isInternetEnabled": true,
   "language": "python",
   "sourceType": "notebook"
  },
  "kernelspec": {
   "display_name": "Python 3",
   "language": "python",
   "name": "python3"
  },
  "language_info": {
   "codemirror_mode": {
    "name": "ipython",
    "version": 3
   },
   "file_extension": ".py",
   "mimetype": "text/x-python",
   "name": "python",
   "nbconvert_exporter": "python",
   "pygments_lexer": "ipython3",
   "version": "3.9.10"
  }
 },
 "nbformat": 4,
 "nbformat_minor": 4
}
